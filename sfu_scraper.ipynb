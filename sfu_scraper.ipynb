{
 "cells": [
  {
   "cell_type": "code",
   "execution_count": null,
   "metadata": {},
   "outputs": [],
   "source": [
    "from urllib.request import urlopen as ureq\n",
    "from bs4 import BeautifulSoup as soup\n",
    "import csv\n",
    "my_url = 'https://www.sfu.ca/computing/people/faculty.html'\n",
    "uclient = ureq(my_url)\n",
    "page_html = uclient.read()\n",
    "uclient.close()\n",
    "page_soup = soup(page_html,\"html.parser\")\n",
    "\n",
    "'''links = []\n",
    "link_tag = page_soup.find_all('a',href=lambda href: href and href[0:26] == '/computing/people/faculty/')\n",
    "for i in link_tag:\n",
    "    temp=str(i).split('\\\"')[1].split('#')[0]\n",
    "    links.append(temp)'''\n",
    "    \n",
    "names = []\n",
    "roles = []\n",
    "name_tag = page_soup.find_all(\"div\",{\"class\":\"text\"})\n",
    "c=0\n",
    "for i in name_tag:\n",
    "    if(list(i)[0]!='\\n'):\n",
    "        temp=list(i)[0]\n",
    "        title = str(temp).split('>')[1].split('<')[0]\n",
    "        names.append(title.split(',')[0].replace('\\n',''))\n",
    "        roles.append(title.split(',')[1].replace(' ','',1).replace('\\n',''))\n",
    "\n",
    "name_role = []\n",
    "for i in range(len(names)):\n",
    "    d={}\n",
    "    d['name']=names[i]\n",
    "    d['role']=roles[i]\n",
    "    name_role.append(d)\n",
    "#for i in name_role:\n",
    "#    print(i)\n",
    "\n",
    "fields = ['name', 'role'] \n",
    "filename = \"university_records.csv\"\n",
    "with open(filename, 'w') as csvfile: \n",
    "\twriter = csv.DictWriter(csvfile, fieldnames = fields) \n",
    "\twriter.writeheader() \n",
    "\twriter.writerows(name_role)\n"
   ]
  }
 ],
 "metadata": {
  "kernelspec": {
   "display_name": "Python 3",
   "language": "python",
   "name": "python3"
  },
  "language_info": {
   "codemirror_mode": {
    "name": "ipython",
    "version": 3
   },
   "file_extension": ".py",
   "mimetype": "text/x-python",
   "name": "python",
   "nbconvert_exporter": "python",
   "pygments_lexer": "ipython3",
   "version": "3.6.8"
  }
 },
 "nbformat": 4,
 "nbformat_minor": 2
}
